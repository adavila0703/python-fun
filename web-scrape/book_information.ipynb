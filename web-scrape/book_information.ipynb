{
 "cells": [
  {
   "cell_type": "code",
   "execution_count": 1,
   "metadata": {},
   "outputs": [],
   "source": [
    "#scraping books that only have 3 stars, trying it my way first."
   ]
  },
  {
   "cell_type": "code",
   "execution_count": 230,
   "metadata": {},
   "outputs": [],
   "source": [
    "import requests\n",
    "import bs4"
   ]
  },
  {
   "cell_type": "code",
   "execution_count": 231,
   "metadata": {},
   "outputs": [],
   "source": [
    "request = requests.get('http://books.toscrape.com/catalogue/category/books_1/index.html')\n",
    "book_soup = bs4.BeautifulSoup(request.text, 'lxml')\n",
    "pages = int(str(book_soup.select('.current')).split()[5])"
   ]
  },
  {
   "cell_type": "code",
   "execution_count": 234,
   "metadata": {},
   "outputs": [],
   "source": [
    "#book_soup.select('.product_pod')[0]('p')[0]).split()[2].split('\"')[0]\n",
    "group = book_soup.select('.product_pod')\n",
    "\n",
    "count = 0\n",
    "display_count = 1\n",
    "book_name = \"\"\n",
    "\n",
    "for p in range(1, pages +1):\n",
    "    request = requests.get(f'http://books.toscrape.com/catalogue/category/books_1/page-{p}.html')\n",
    "    book_soup = bs4.BeautifulSoup(request.text, 'lxml')\n",
    "    group = book_soup.select('.product_pod')\n",
    "    for g in group:\n",
    "        if str(g('p')[0]).split()[2].split('\"')[0] == 'Three':\n",
    "            storing = f\"{display_count}. \" + str(g('a')[0]('img')).split('\"')[1] + '/'\n",
    "            book_name += storing\n",
    "            count += 1\n",
    "            display_count += 1\n",
    "        else:\n",
    "            pass\n",
    "    \n",
    "final_books = book_name.split('/')"
   ]
  },
  {
   "cell_type": "code",
   "execution_count": 235,
   "metadata": {},
   "outputs": [
    {
     "name": "stdout",
     "output_type": "stream",
     "text": [
      "1.A Light in the Attic\n",
      "2.The Coming Woman: A Novel Based on the Life of the Infamous Feminist, Victoria Woodhull\n",
      "3.Our Band Could Be Your Life: Scenes from the American Indie Underground, 1981-1991\n",
      "4.Foolproof Preserving: A Guide to Small Batch Jams, Jellies, Pickles, Condiments, and More: A Foolproof Guide to Making Small Batch Jams, Jellies, Pickles, Condiments, and More\n",
      "5.Birdsong: A Story in Pictures\n",
      "6.America's Cradle of Quarterbacks: Western Pennsylvania's Football Factory from Johnny Unitas to Joe Montana\n",
      "7.Aladdin and His Wonderful Lamp\n",
      "8.The Five Love Languages: How to Express Heartfelt Commitment to Your Mate\n",
      "9.Penny Maybe\n",
      "10.Slow States of Collapse: Poems\n",
      "11.Unicorn Tracks\n",
      "12.Throwing Rocks at the Google Bus: How Growth Became the Enemy of Prosperity\n",
      "13.The Natural History of Us (The Fine Art of Pretending #2)\n",
      "14.The Murder That Never Was (Forensic Instincts #5)\n",
      "15.The Life-Changing Magic of Tidying Up: The Japanese Art of Decluttering and Organizing\n",
      "16.The Bulletproof Diet: Lose up to a Pound a Day, Reclaim Energy and Focus, Upgrade Your Life\n",
      "17.The Art Forger\n",
      "18.Saga, Volume 6 (Saga (Collected Editions) #6)\n",
      "19.Rat Queens, Vol. 3: Demons (Rat Queens (Collected Editions) #11-15)\n",
      "20.Patience\n",
      "21.On a Midnight Clear\n",
      "22.Lumberjanes, Vol. 1: Beware the Kitten Holy (Lumberjanes #1-4)\n",
      "23.I am a Hero Omnibus Volume 1\n",
      "24.Forever and Forever: The Courtship of Henry Longfellow and Fanny Appleton\n",
      "25.Crown of Midnight (Throne of Glass #2)\n",
      "26.Burning\n",
      "27.Tracing Numbers on a Train\n",
      "28.Throne of Glass (Throne of Glass #1)\n",
      "29.The Mistake (Off-Campus #2)\n",
      "30.The Bridge to Consciousness: I'm Writing the Bridge Between Science and Our Old and New Beliefs.\n",
      "31.The 10% Entrepreneur: Live Your Startup Dream Without Quitting Your Day Job\n",
      "32.Shobu Samurai, Project Aryoku (#3)\n",
      "33.Little Red\n",
      "34.Doing It Over (Most Likely To #1)\n",
      "35.Deliciously Ella Every Day: Quick and Easy Recipes for Gluten-Free Snacks, Packed Lunches, and Simple Meals\n",
      "36.Daring Greatly: How the Courage to Be Vulnerable Transforms the Way We Live, Love, Parent, and Lead\n",
      "37.Big Magic: Creative Living Beyond Fear\n",
      "38.Amy Meets the Saints and Sages\n",
      "39.Zealot: The Life and Times of Jesus of Nazareth\n",
      "40.The Wedding Pact (The O'Malleys #2)\n",
      "41.The Power of Habit: Why We Do What We Do in Life and Business\n",
      "42.The Literature Book (Big Ideas Simply Explained)\n",
      "43.The Help Yourself Cookbook for Kids: 60 Easy Plant-Based Recipes Kids Can Make to Stay Healthy and Save the Earth\n",
      "44.The First Hostage (J.B. Collins #2)\n",
      "45.Take Me with You\n",
      "46.Still Life with Bread Crumbs\n",
      "47.See America: A Celebration of Our National Parks &amp; Treasured Sites\n",
      "48.Robin War\n",
      "49.Rain Fish\n",
      "50.Pet Sematary\n",
      "51.Overload: How to Unplug, Unwind, and Unleash Yourself from the Pressure of Stress\n",
      "52.My Mrs. Brown\n",
      "53.Luis Paints the World\n",
      "54.Luckiest Girl Alive\n",
      "55.Hush, Hush (Hush, Hush #1)\n",
      "56.Hamilton: The Revolution\n",
      "57.Glory over Everything: Beyond The Kitchen House\n",
      "58.Feathers: Displays of Brilliant Plumage\n",
      "59.Every Last Word\n",
      "60.Eligible (The Austen Project #4)\n",
      "61.Cometh the Hour (The Clifton Chronicles #6)\n",
      "62.Catching Jordan (Hundred Oaks)\n",
      "63.Carry On, Warrior: Thoughts on Life Unarmed\n",
      "64.Balloon Animals\n",
      "65.Art Ops Vol. 1\n",
      "66.Angels &amp; Demons (Robert Langdon #1)\n",
      "67.A Distant Mirror: The Calamitous 14th Century\n",
      "68.1491: New Revelations of the Americas Before Columbus\n",
      "69.The Three Searches, Meaning, and the Story\n",
      "70.Will You Won't You Want Me?\n",
      "71.The Diary of a Young Girl\n",
      "72.The Children\n",
      "73.Snatched: How A Drug Queen Went Undercover for the DEA and Was Kidnapped By Colombian Guerillas\n",
      "74.Poisonous (Max Revere Novels #3)\n",
      "75.Most Wanted\n",
      "76.Boar Island (Anna Pigeon #19)\n",
      "77.The Art of Startup Fundraising\n",
      "78.Take Me Home Tonight (Rock Star Romance #3)\n",
      "79.Playing with Fire\n",
      "80.Off the Hook (Fishing for Trouble #1)\n",
      "81.It Didn't Start with You: How Inherited Family Trauma Shapes Who We Are and How to End the Cycle\n",
      "82.Daredevils\n",
      "83.Cravings: Recipes for What You Want to Eat\n",
      "84.A Mother's Reckoning: Living in the Aftermath of Tragedy\n",
      "85.11\n",
      "22\n",
      "63\n",
      "86.The Book of Mormon\n",
      "87.Dress Your Family in Corduroy and Denim\n",
      "88.A Shard of Ice (The Black Symphony Saga #1)\n",
      "89.A Hero's Curse (The Unseen Chronicles #1)\n",
      "90.Zero to One: Notes on Startups, or How to Build the Future\n",
      "91.The New Drawing on the Right Side of the Brain\n",
      "92.Silence in the Dark (Logan Point #4)\n",
      "93.Rising Strong\n",
      "94.Man's Search for Meaning\n",
      "95.Living Forward: A Proven Plan to Stop Drifting and Get the Life You Want\n",
      "96.Brilliant Beacons: A History of the American Lighthouse\n",
      "97.A Murder Over a Girl: Justice, Gender, Junior High\n",
      "98.You Are a Badass: How to Stop Doubting Your Greatness and Start Living an Awesome Life\n",
      "99.Under the Tuscan Sun\n",
      "100.The Good Girl\n",
      "101.The Drowning Girls\n",
      "102.The Constant Princess (The Tudor Court #1)\n",
      "103.Sit, Stay, Love\n",
      "104.Shrunken Treasures: Literary Classics, Short, Sweet, and Silly\n",
      "105.Meternity\n",
      "106.Memoirs of a Geisha\n",
      "107.For the Love: Fighting for Grace in a World of Impossible Standards\n",
      "108.Benjamin Franklin: An American Life\n",
      "109.The Perks of Being a Wallflower\n",
      "110.The God Delusion\n",
      "111.Ship Leaves Harbor: Essays on Travel by a Recovering Journeyman\n",
      "112.Mere Christianity\n",
      "113.Girl, Interrupted\n",
      "114.Death Note, Vol. 6: Give-and-Take (Death Note #6)\n",
      "115.Better Homes and Gardens New Cook Book\n",
      "116.An Unquiet Mind: A Memoir of Moods and Madness\n",
      "117.The Little Paris Bookshop\n",
      "118.The Grand Design\n",
      "119.The Firm\n",
      "120.Tell the Wind and Fire\n",
      "121.Remember Me?\n",
      "122.Red Dragon (Hannibal Lecter #1)\n",
      "123.Last One Home (New Beginnings #1)\n",
      "124.Data, A Love Story: How I Gamed Online Dating to Meet My Match\n",
      "125.A Clash of Kings (A Song of Ice and Fire #2)\n",
      "126.The Shining (The Shining #1)\n",
      "127.The Perfect Play (Play by Play #1)\n",
      "128.The Jazz of Physics: The Secret Link Between Music and the Structure of the Universe\n",
      "129.The Bone Hunters (Lexy Vaughan &amp; Steven Macaulay #2)\n",
      "130.Orchestra of Exiles: The Story of Bronislaw Huberman, the Israel Philharmonic, and the One Thousand Jews He Saved from Nazi Horrors\n",
      "131.It\n",
      "132.Harry Potter and the Sorcerer's Stone (Harry Potter #1)\n",
      "133.Gone with the Wind\n",
      "134.Changing the Game (Play by Play #2)\n",
      "135.Candide\n",
      "136.Animal Farm\n",
      "137.Wuthering Heights\n",
      "138.Wild: From Lost to Found on the Pacific Crest Trail\n",
      "139.We the People: The Modern-Day Figures Who Have Reshaped and Affirmed the Founding Fathers' Vision of America\n",
      "140.Walk the Edge (Thunder Road #2)\n",
      "141.Very Good Lives: The Fringe Benefits of Failure and the Importance of Imagination\n",
      "142.Three-Martini Lunch\n",
      "143.The Wild Robot\n",
      "144.The Wicked + The Divine, Vol. 3: Commercial Suicide (The Wicked + The Divine)\n",
      "145.The Rise of Theodore Roosevelt (Theodore Roosevelt #1)\n",
      "146.The Purpose Driven Life: What on Earth Am I Here for?\n",
      "147.The Paris Wife\n",
      "148.The New Guy (and Other Senior Year Distractions)\n",
      "149.The Lean Startup: How Today's Entrepreneurs Use Continuous Innovation to Create Radically Successful Businesses\n",
      "150.The Hitchhiker's Guide to the Galaxy (Hitchhiker's Guide to the Galaxy #1)\n",
      "151.The Goldfinch\n",
      "152.The Girl with All the Gifts\n",
      "153.The Exiled\n",
      "154.The Art of Simple Food: Notes, Lessons, and Recipes from a Delicious Revolution\n",
      "155.Stiff: The Curious Lives of Human Cadavers\n",
      "156.Rogue Lawyer (Rogue Lawyer #1)\n",
      "157.Reservations for Two\n",
      "158.Red: The True Story of Red Riding Hood\n",
      "159.Prodigy: The Graphic Novel (Legend: The Graphic Novel #2)\n",
      "160.Original Fake\n",
      "161.Neither Here nor There: Travels in Europe\n",
      "162.Naked\n",
      "163.Lila (Gilead #3)\n",
      "164.Is Everyone Hanging Out Without Me? (And Other Concerns)\n",
      "165.In the Garden of Beasts: Love, Terror, and an American Family in Hitler's Berlin\n",
      "166.Hungry Girl Clean &amp; Hungry: Easy All-Natural Recipes for Healthy Eating in the Real World\n",
      "167.Friday Night Lights: A Town, a Team, and a Dream\n",
      "168.Extreme Prey (Lucas Davenport #26)\n",
      "169.Eragon (The Inheritance Cycle #1)\n",
      "170.Dracula\n",
      "171.Boy Meets Boy\n",
      "172.Are We There Yet?\n",
      "173.The Sense of an Ending\n",
      "174.The Course of Love\n",
      "175.Saga, Volume 2 (Saga (Collected Editions) #2)\n",
      "176.Kindle Paperwhite User's Guide\n",
      "177.Where Lightning Strikes (Bleeding Stars #3)\n",
      "178.When I'm Gone\n",
      "179.The Silent Twin (Detective Jennifer Knight #3)\n",
      "180.The Secret Healer\n",
      "181.The Sandman, Vol. 1: Preludes and Nocturnes (The Sandman (volumes) #1)\n",
      "182.The Republic\n",
      "183.The Odyssey\n",
      "184.The Name of the Wind (The Kingkiller Chronicle #1)\n",
      "185.The Girl In The Ice (DCI Erika Foster #1)\n",
      "186.The Complete Maus (Maus #1-2)\n",
      "187.The Communist Manifesto\n",
      "188.The Bhagavad Gita\n",
      "189.The Bette Davis Club\n",
      "190.Starlark\n",
      "191.Skip Beat!, Vol. 01 (Skip Beat! #1)\n",
      "192.Sister Sable (The Mad Queen #1)\n",
      "193.Shameless\n",
      "194.Ouran High School Host Club, Vol. 1 (Ouran High School Host Club #1)\n",
      "195.On the Road (Duluoz Legend)\n",
      "196.Lord of the Flies\n",
      "197.Listen to Me (Fusion #1)\n",
      "198.Hawkeye, Vol. 1: My Life as a Weapon (Hawkeye #1)\n",
      "199.Forever Rockers (The Rocker #12)\n",
      "200.Fighting Fate (Fighting #6)\n",
      "201.Eat, Pray, Love\n",
      "202.Charlie and the Chocolate Factory (Charlie Bucket #1)\n",
      "203.Blood Defense (Samantha Brinkman #1)\n",
      "\n"
     ]
    }
   ],
   "source": [
    "for f in final_books:\n",
    "    print(f)"
   ]
  },
  {
   "cell_type": "code",
   "execution_count": 236,
   "metadata": {},
   "outputs": [
    {
     "name": "stdout",
     "output_type": "stream",
     "text": [
      "203\n"
     ]
    }
   ],
   "source": [
    "print(count)"
   ]
  },
  {
   "cell_type": "markdown",
   "metadata": {},
   "source": [
    "### Things I could have improved on"
   ]
  },
  {
   "cell_type": "code",
   "execution_count": 241,
   "metadata": {},
   "outputs": [
    {
     "name": "stdout",
     "output_type": "stream",
     "text": [
      "True\n",
      "True\n"
     ]
    }
   ],
   "source": [
    "# different apprach i could have taken for testing string\n",
    "print('star-rating Three' in str(group))\n",
    "#instead of \n",
    "print(str(group[2]('p')[0]).split()[2].split('\"')[0] == 'Three')"
   ]
  },
  {
   "cell_type": "code",
   "execution_count": 253,
   "metadata": {},
   "outputs": [
    {
     "data": {
      "text/plain": [
       "False"
      ]
     },
     "execution_count": 253,
     "metadata": {},
     "output_type": "execute_result"
    }
   ],
   "source": [
    "[] == book_soup.select('.star-rating.Three')\n"
   ]
  },
  {
   "cell_type": "code",
   "execution_count": null,
   "metadata": {},
   "outputs": [],
   "source": []
  }
 ],
 "metadata": {
  "kernelspec": {
   "display_name": "Python 3",
   "language": "python",
   "name": "python3"
  },
  "language_info": {
   "codemirror_mode": {
    "name": "ipython",
    "version": 3
   },
   "file_extension": ".py",
   "mimetype": "text/x-python",
   "name": "python",
   "nbconvert_exporter": "python",
   "pygments_lexer": "ipython3",
   "version": "3.8.2"
  }
 },
 "nbformat": 4,
 "nbformat_minor": 4
}
